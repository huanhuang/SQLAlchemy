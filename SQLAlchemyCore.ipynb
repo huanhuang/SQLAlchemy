{
 "cells": [
  {
   "cell_type": "markdown",
   "metadata": {},
   "source": [
    "## Alchemy Core"
   ]
  },
  {
   "cell_type": "markdown",
   "metadata": {},
   "source": [
    "### 创建连接"
   ]
  },
  {
   "cell_type": "markdown",
   "metadata": {},
   "source": [
    "#### 导入包"
   ]
  },
  {
   "cell_type": "code",
   "execution_count": 1,
   "metadata": {},
   "outputs": [],
   "source": [
    "from sqlalchemy import create_engine,Integer,String,Numeric,DateTime,Boolean,Table,Column,MetaData\n",
    "from sqlalchemy import ForeignKey\n",
    "from datetime import datetime\n",
    "from sqlalchemy import insert,update,delete,select"
   ]
  },
  {
   "cell_type": "markdown",
   "metadata": {},
   "source": [
    "#### 创建元数据Metadata对象"
   ]
  },
  {
   "cell_type": "code",
   "execution_count": 2,
   "metadata": {},
   "outputs": [],
   "source": [
    "metadata = MetaData()"
   ]
  },
  {
   "cell_type": "markdown",
   "metadata": {},
   "source": [
    "#### 创建表"
   ]
  },
  {
   "cell_type": "code",
   "execution_count": 3,
   "metadata": {},
   "outputs": [],
   "source": [
    "\n",
    "cookies = Table('cookies',metadata,\n",
    "                    Column('cookie_id',Integer(),primary_key=True),\n",
    "                    Column('cookie_name',String(50),index=True),\n",
    "                    Column('cookie_recipe_url',String(255)),\n",
    "                    Column('cookie_sku',String(55)),\n",
    "                    Column('quantity',Integer()),\n",
    "                    Column('unit_cost',Numeric(12,2))\n",
    "                    )\n",
    "users = Table('users',metadata,\n",
    "                  Column('user_id',Integer(),primary_key=True),\n",
    "                  Column('customer_number',Integer(),autoincrement=True),\n",
    "                  Column('user_name',String(15),nullable=False,unique=True),\n",
    "                  Column('email_address',String(255),nullable=False),\n",
    "                  Column('password',String(25),nullable=False),\n",
    "                  Column('created_on',DateTime(),default=datetime.now),\n",
    "                  Column('updated_on',DateTime(),default=datetime.now,onupdate=datetime.now)\n",
    "                  )\n",
    "orders = Table('orders',metadata,\n",
    "                   Column('order_id',Integer(),primary_key=True),\n",
    "                   Column('user_id',ForeignKey('users.user_id')),\n",
    "                    Column('shipped',Boolean(),default=False)\n",
    "                          )\n",
    "\n",
    "line_items = Table('line_items',metadata,\n",
    "                       Column('line_item_id',Integer(),primary_key=True),\n",
    "                       Column('order_id',ForeignKey('orders.order_id')),\n",
    "                       Column('cookie_id',ForeignKey('cookies.cookie_id')),\n",
    "                       Column('quantity',Integer()),\n",
    "                       Column('extended_cost',Numeric(12,2)))"
   ]
  },
  {
   "cell_type": "markdown",
   "metadata": {},
   "source": [
    "#### 持久化"
   ]
  },
  {
   "cell_type": "code",
   "execution_count": 4,
   "metadata": {},
   "outputs": [],
   "source": [
    "engine = create_engine(\"sqlite:///cookies.db\")\n",
    "metadata.create_all(engine)"
   ]
  },
  {
   "cell_type": "markdown",
   "metadata": {},
   "source": [
    "### 插入数据"
   ]
  },
  {
   "cell_type": "code",
   "execution_count": null,
   "metadata": {},
   "outputs": [],
   "source": [
    "ins = insert(cookies).values(cookie_name = 'chocolate chip',\n",
    "                                 cookie_recipe_url='http://some.awson.me/cookie/recipe.html',\n",
    "                                 cookie_sku='CC01',\n",
    "                                 quantity = '12',\n",
    "                                 unit_cost = '0.50')\n",
    "\n",
    "print(ins)\n",
    "result = engine.execute(ins)\n",
    "print(\"insert result %s\" % result)"
   ]
  },
  {
   "cell_type": "code",
   "execution_count": null,
   "metadata": {},
   "outputs": [],
   "source": [
    "inventory_list = [\n",
    "   {\n",
    "       'cookie_name':'peanut butter',\n",
    "                                 'cookie_recipe_url':'http://some.awson.me/cookie/peanut.html',\n",
    "                                 'cookie_sku':'PB01',\n",
    "                                 'quantity' : \"24\",\n",
    "                                 'unit_cost' : \"0.25\"\n",
    "   } ,\n",
    "     {\n",
    "       'cookie_name' : 'oatmeal raisin',\n",
    "                                 'cookie_recipe_url':'http://some.awson.me/cookie/raisin.html',\n",
    "                                 'cookie_sku':'EB01',\n",
    "                                 'quantity' : \"100\",\n",
    "                                 'unit_cost' : \"1.00\"\n",
    "   }\n",
    "]\n",
    "ins = cookies.insert()\n",
    "\n",
    "result = engine.execute(ins,inventory_list)"
   ]
  },
  {
   "cell_type": "markdown",
   "metadata": {},
   "source": [
    "### 查询"
   ]
  },
  {
   "cell_type": "code",
   "execution_count": 5,
   "metadata": {},
   "outputs": [
    {
     "name": "stdout",
     "output_type": "stream",
     "text": [
      "SELECT cookies.cookie_id, cookies.cookie_name, cookies.cookie_recipe_url, cookies.cookie_sku, cookies.quantity, cookies.unit_cost \n",
      "FROM cookies\n",
      "[(1, 'chocolate chip', 'http://some.awson.me/cookie/recipe.html', 'CC01', 512, Decimal('0.50')), (2, 'peanut butter', 'http://some.awson.me/cookie/peanut.html', 'PB01', 24, Decimal('0.25')), (5, 'oatmeal raisin', 'http://some.awson.me/cookie/raisin.html', 'EB01', 100, Decimal('1.00'))]\n"
     ]
    },
    {
     "name": "stderr",
     "output_type": "stream",
     "text": [
      "/opt/anaconda3/lib/python3.8/site-packages/sqlalchemy/sql/sqltypes.py:661: SAWarning: Dialect sqlite+pysqlite does *not* support Decimal objects natively, and SQLAlchemy must convert from floating point - rounding errors and other issues may occur. Please consider storing Decimal numbers as strings or integers on this platform for lossless storage.\n",
      "  util.warn(\n"
     ]
    }
   ],
   "source": [
    "from sqlalchemy import select\n",
    "\n",
    "s = select([cookies])\n",
    "print(str(s))\n",
    "rp = engine.execute(s)\n",
    "results = rp.fetchall()\n",
    "print(results)"
   ]
  },
  {
   "cell_type": "code",
   "execution_count": null,
   "metadata": {},
   "outputs": [],
   "source": [
    "first_row = results[0]\n",
    "first_row.cookie_name"
   ]
  },
  {
   "cell_type": "markdown",
   "metadata": {},
   "source": [
    "#### resultProxy"
   ]
  },
  {
   "cell_type": "code",
   "execution_count": null,
   "metadata": {},
   "outputs": [],
   "source": [
    "s = select([cookies])\n",
    "rp = engine.execute(s)\n",
    "for record in rp:\n",
    "    print(record.cookie_name)"
   ]
  },
  {
   "cell_type": "code",
   "execution_count": null,
   "metadata": {},
   "outputs": [],
   "source": [
    "s = select([cookies])\n",
    "rp = engine.execute(s)"
   ]
  },
  {
   "cell_type": "code",
   "execution_count": null,
   "metadata": {},
   "outputs": [],
   "source": [
    "rp.first()"
   ]
  },
  {
   "cell_type": "code",
   "execution_count": null,
   "metadata": {
    "scrolled": true
   },
   "outputs": [],
   "source": [
    "rp.fetchone()"
   ]
  },
  {
   "cell_type": "code",
   "execution_count": null,
   "metadata": {},
   "outputs": [],
   "source": []
  },
  {
   "cell_type": "markdown",
   "metadata": {},
   "source": [
    "#### 查询指定的列 加排序\n"
   ]
  },
  {
   "cell_type": "code",
   "execution_count": null,
   "metadata": {},
   "outputs": [],
   "source": [
    "s = select([cookies.c.cookie_name,cookies.c.quantity])\n",
    "s = s.order_by(cookies.c.quantity)\n",
    "rp = engine.execute(s)\n",
    "for cookie in rp:\n",
    "    print('{}-{}'.format(cookie.quantity,cookie.cookie_name))"
   ]
  },
  {
   "cell_type": "markdown",
   "metadata": {},
   "source": [
    "#### 限制返回的条数"
   ]
  },
  {
   "cell_type": "code",
   "execution_count": null,
   "metadata": {},
   "outputs": [],
   "source": [
    "from sqlalchemy import desc\n",
    "s = select([cookies.c.cookie_name,cookies.c.quantity])\n",
    "s = s.order_by(desc(cookies.c.quantity))\n",
    "s = s.limit(2)\n",
    "rp = engine.execute(s)\n",
    "print([result.cookie_name for result in rp])"
   ]
  },
  {
   "cell_type": "markdown",
   "metadata": {},
   "source": [
    "#### 内置sql函数和标签"
   ]
  },
  {
   "cell_type": "code",
   "execution_count": null,
   "metadata": {},
   "outputs": [],
   "source": [
    "from sqlalchemy.sql import func\n",
    "s = select([func.sum(cookies.c.quantity)])\n",
    "rp = engine.execute(s)\n",
    "print(rp.scalar())"
   ]
  },
  {
   "cell_type": "code",
   "execution_count": null,
   "metadata": {},
   "outputs": [],
   "source": [
    "from sqlalchemy.sql import func\n",
    "s = select([func.count(cookies.c.cookie_name)])\n",
    "rp = engine.execute(s)\n",
    "record = rp.first()\n",
    "print(record.keys())\n",
    "print(record.count_1)"
   ]
  },
  {
   "cell_type": "code",
   "execution_count": null,
   "metadata": {},
   "outputs": [],
   "source": [
    "### 使用label重命名\n",
    "s = select([func.count(cookies.c.cookie_name).label(\"inventory_count\")])\n",
    "rp = engine.execute(s)\n",
    "record = rp.first()\n",
    "print(record.keys())\n",
    "print(record.inventory_count)"
   ]
  },
  {
   "cell_type": "markdown",
   "metadata": {},
   "source": [
    "#### 过滤"
   ]
  },
  {
   "cell_type": "code",
   "execution_count": null,
   "metadata": {},
   "outputs": [],
   "source": [
    "s = select([cookies]).where(cookies.c.cookie_name == 'chocolate chip')\n",
    "rp = engine.execute(s)\n",
    "record = rp.first()\n",
    "print(record.items())"
   ]
  },
  {
   "cell_type": "code",
   "execution_count": null,
   "metadata": {},
   "outputs": [],
   "source": [
    "s = select([cookies]).where(cookies.c.cookie_name.like(\"%chip%\"))\n",
    "rp = engine.execute(s)\n",
    "for record in rp.fetchall():\n",
    "    print(record.cookie_name)"
   ]
  },
  {
   "cell_type": "markdown",
   "metadata": {},
   "source": [
    "#### 运算符"
   ]
  },
  {
   "cell_type": "code",
   "execution_count": null,
   "metadata": {},
   "outputs": [],
   "source": [
    "s = select([cookies.c.cookie_name,'SKU'+cookies.c.cookie_sku])\n",
    "for row in engine.execute(s):\n",
    "    print(row)"
   ]
  },
  {
   "cell_type": "code",
   "execution_count": null,
   "metadata": {},
   "outputs": [],
   "source": [
    "from sqlalchemy import cast\n",
    "s = select([cookies.c.cookie_name,cast((cookies.c.quantity*cookies.c.unit_cost),Numeric(12,2)).label('inv_cost')])\n",
    "\n",
    "for row in engine.execute(s):\n",
    "    print(\"{}-{}\".format(row.cookie_name,row.inv_cost))"
   ]
  },
  {
   "cell_type": "code",
   "execution_count": null,
   "metadata": {},
   "outputs": [],
   "source": [
    "#### 布尔运算符\n",
    "from sqlalchemy import and_,or_,not_\n",
    "s = select([cookies]).where(\n",
    "and_(cookies.c.quantity > 23,cookies.c.unit_cost<0.4))\n",
    "for row in engine.execute(s):\n",
    "    print(row.cookie_name)"
   ]
  },
  {
   "cell_type": "markdown",
   "metadata": {},
   "source": [
    "### 更新 "
   ]
  },
  {
   "cell_type": "code",
   "execution_count": null,
   "metadata": {},
   "outputs": [],
   "source": [
    "u= update(cookies).where(cookies.c.cookie_name == 'chocolate chip')\n",
    "u = u.values(quantity = (cookies.c.quantity + 100))\n",
    "result = engine.execute(u)\n",
    "print(result.rowcount)\n",
    "\n",
    "s = select([cookies]).where(cookies.c.cookie_name == 'chocolate chip')\n",
    "result = engine.execute(s).first()\n",
    "print(result)\n",
    "for key in result.keys():\n",
    "    print('{:>20}:{}'.format(key,result[key]))"
   ]
  },
  {
   "cell_type": "markdown",
   "metadata": {},
   "source": [
    "### 删除"
   ]
  },
  {
   "cell_type": "code",
   "execution_count": null,
   "metadata": {},
   "outputs": [],
   "source": [
    "from sqlalchemy import delete\n",
    "u = delete(cookies).where(cookies.c.cookie_id == 4)\n",
    "reuslt = engine.execute(u)\n",
    "print(reuslt.rowcount)"
   ]
  },
  {
   "cell_type": "code",
   "execution_count": null,
   "metadata": {},
   "outputs": [],
   "source": [
    "customer_list = [\n",
    "    {\n",
    "        'user_name':'cookiemon',\n",
    "        'email_address':'mo@cookie.com',\n",
    "        'password':'123456',\n",
    "    },\n",
    "      {\n",
    "        'user_name':'cakeeater',\n",
    "        'email_address':'cakeeater@cookie.com',\n",
    "        'password':'123456',\n",
    "    },\n",
    "      {\n",
    "        'user_name':'pieguy',\n",
    "        'email_address':'pieguy@cookie.com',\n",
    "        'password':'123456',\n",
    "    }\n",
    "]\n",
    "\n",
    "ins = users.insert()\n",
    "result = engine.execute(ins,customer_list)\n"
   ]
  },
  {
   "cell_type": "code",
   "execution_count": 6,
   "metadata": {},
   "outputs": [
    {
     "data": {
      "text/plain": [
       "[(1, None, 'cookiemon', 'mo@cookie.com', '123456', datetime.datetime(2021, 7, 22, 21, 39, 24, 273099), datetime.datetime(2021, 7, 22, 21, 39, 24, 273108)),\n",
       " (2, None, 'cakeeater', 'cakeeater@cookie.com', '123456', datetime.datetime(2021, 7, 22, 21, 39, 24, 273110), datetime.datetime(2021, 7, 22, 21, 39, 24, 273112)),\n",
       " (3, None, 'pieguy', 'pieguy@cookie.com', '123456', datetime.datetime(2021, 7, 22, 21, 39, 24, 273114), datetime.datetime(2021, 7, 22, 21, 39, 24, 273115))]"
      ]
     },
     "execution_count": 6,
     "metadata": {},
     "output_type": "execute_result"
    }
   ],
   "source": [
    "s = select([users])\n",
    "engine.execute(s).fetchall()"
   ]
  },
  {
   "cell_type": "code",
   "execution_count": 9,
   "metadata": {},
   "outputs": [
    {
     "name": "stdout",
     "output_type": "stream",
     "text": [
      "INSERT INTO orders (order_id, user_id, shipped) VALUES (:order_id, :user_id, :shipped)\n",
      "<sqlalchemy.engine.result.ResultProxy object at 0x7fc23bf92460>\n"
     ]
    }
   ],
   "source": [
    "ins = insert(orders).values(user_id = 2,order_id = 2)\n",
    "print(str(ins))\n",
    "with engine.connect() as connection:\n",
    "    result = connection.execute(ins)\n",
    "    print(result)"
   ]
  },
  {
   "cell_type": "code",
   "execution_count": 13,
   "metadata": {},
   "outputs": [
    {
     "data": {
      "text/plain": [
       "<sqlalchemy.engine.result.ResultProxy at 0x7fc23b23b6a0>"
      ]
     },
     "execution_count": 13,
     "metadata": {},
     "output_type": "execute_result"
    }
   ],
   "source": [
    "order_items = [\n",
    "    {\n",
    "        'order_id':2,\n",
    "        'cookie_id':1,\n",
    "        'quantity':24,\n",
    "        'extended_cost':12.00,\n",
    "        \n",
    "    },\n",
    "    \n",
    "      {\n",
    "        'order_id':2,\n",
    "        'cookie_id':4,\n",
    "        'quantity':6,\n",
    "        'extended_cost':6.00,\n",
    "        \n",
    "    }]\n",
    "ins = insert(line_items)\n",
    "connection = engine.connect()\n",
    "connection.execute(ins,order_items)\n",
    "    "
   ]
  },
  {
   "cell_type": "markdown",
   "metadata": {},
   "source": [
    "#### join连接"
   ]
  },
  {
   "cell_type": "code",
   "execution_count": 26,
   "metadata": {},
   "outputs": [
    {
     "name": "stdout",
     "output_type": "stream",
     "text": [
      "SELECT orders.order_id, users.user_name, users.email_address, cookies.cookie_name, line_items.quantity, line_items.extended_cost \n",
      "FROM orders JOIN users ON users.user_id = orders.user_id JOIN line_items ON orders.order_id = line_items.order_id JOIN cookies ON cookies.cookie_id = line_items.cookie_id \n",
      "WHERE users.user_name = :user_name_1\n",
      "(1, 'cookiemon', 'mo@cookie.com', 'chocolate chip', 2, Decimal('1.00'))\n"
     ]
    }
   ],
   "source": [
    "connection = engine.connect()\n",
    "columns = [orders.c.order_id,users.c.user_name,users.c.email_address,cookies.c.cookie_name,line_items.c.quantity,line_items.c.extended_cost]\n",
    "cookiemon_orders = select(columns)咯；p\n",
    "cookiemon_orders = cookiemon_orders.select_from(orders.join(users).join(line_items).join(cookies)).where(users.c.user_name=='cookiemon')\n",
    "print(str(cookiemon_orders))\n",
    "rp = connection.execute(cookiemon_orders)\n",
    "result = rp.fetchall()\n",
    "for row in result:\n",
    "    print(row)\n",
    "connection.close()"
   ]
  },
  {
   "cell_type": "code",
   "execution_count": null,
   "metadata": {},
   "outputs": [],
   "source": []
  }
 ],
 "metadata": {
  "kernelspec": {
   "display_name": "Python 3",
   "language": "python",
   "name": "python3"
  },
  "language_info": {
   "codemirror_mode": {
    "name": "ipython",
    "version": 3
   },
   "file_extension": ".py",
   "mimetype": "text/x-python",
   "name": "python",
   "nbconvert_exporter": "python",
   "pygments_lexer": "ipython3",
   "version": "3.8.5"
  },
  "toc": {
   "base_numbering": 1,
   "nav_menu": {},
   "number_sections": true,
   "sideBar": true,
   "skip_h1_title": false,
   "title_cell": "Table of Contents",
   "title_sidebar": "Contents",
   "toc_cell": false,
   "toc_position": {},
   "toc_section_display": true,
   "toc_window_display": true
  },
  "varInspector": {
   "cols": {
    "lenName": 16,
    "lenType": 16,
    "lenVar": 40
   },
   "kernels_config": {
    "python": {
     "delete_cmd_postfix": "",
     "delete_cmd_prefix": "del ",
     "library": "var_list.py",
     "varRefreshCmd": "print(var_dic_list())"
    },
    "r": {
     "delete_cmd_postfix": ") ",
     "delete_cmd_prefix": "rm(",
     "library": "var_list.r",
     "varRefreshCmd": "cat(var_dic_list()) "
    }
   },
   "position": {
    "height": "86.625px",
    "left": "1647.67px",
    "right": "20px",
    "top": "228px",
    "width": "350px"
   },
   "types_to_exclude": [
    "module",
    "function",
    "builtin_function_or_method",
    "instance",
    "_Feature"
   ],
   "window_display": true
  }
 },
 "nbformat": 4,
 "nbformat_minor": 4
}
